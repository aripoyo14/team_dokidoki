{
 "cells": [
  {
   "cell_type": "code",
   "execution_count": 4,
   "metadata": {},
   "outputs": [
    {
     "ename": "OperationalError",
     "evalue": "table Diary_table already exists",
     "output_type": "error",
     "traceback": [
      "\u001b[1;31m---------------------------------------------------------------------------\u001b[0m",
      "\u001b[1;31mOperationalError\u001b[0m                          Traceback (most recent call last)",
      "Cell \u001b[1;32mIn[4], line 8\u001b[0m\n\u001b[0;32m      5\u001b[0m c \u001b[38;5;241m=\u001b[39m conn\u001b[38;5;241m.\u001b[39mcursor()\n\u001b[0;32m      7\u001b[0m \u001b[38;5;66;03m# テーブルを作成\u001b[39;00m\n\u001b[1;32m----> 8\u001b[0m \u001b[43mc\u001b[49m\u001b[38;5;241;43m.\u001b[39;49m\u001b[43mexecute\u001b[49m\u001b[43m(\u001b[49m\u001b[38;5;124;43m'''\u001b[39;49m\n\u001b[0;32m      9\u001b[0m \u001b[38;5;124;43m          CREATE TABLE Diary_table(\u001b[39;49m\n\u001b[0;32m     10\u001b[0m \u001b[38;5;124;43m              diary_id INTEGER PRIMARY KEY AUTOINCREMENT,\u001b[39;49m\n\u001b[0;32m     11\u001b[0m \u001b[38;5;124;43m              user_id INT,\u001b[39;49m\n\u001b[0;32m     12\u001b[0m \u001b[38;5;124;43m              date date,\u001b[39;49m\n\u001b[0;32m     13\u001b[0m \u001b[38;5;124;43m              diary TEXT,\u001b[39;49m\n\u001b[0;32m     14\u001b[0m \u001b[38;5;124;43m              feedback TEXT\u001b[39;49m\n\u001b[0;32m     15\u001b[0m \u001b[38;5;124;43m          )\u001b[39;49m\n\u001b[0;32m     16\u001b[0m \u001b[38;5;124;43m          \u001b[39;49m\u001b[38;5;124;43m'''\u001b[39;49m\u001b[43m)\u001b[49m\n\u001b[0;32m     18\u001b[0m conn\u001b[38;5;241m.\u001b[39mcommit()\n\u001b[0;32m     19\u001b[0m conn\u001b[38;5;241m.\u001b[39mclose()\n",
      "\u001b[1;31mOperationalError\u001b[0m: table Diary_table already exists"
     ]
    }
   ],
   "source": [
    "import sqlite3\n",
    "\n",
    "# SQLiteデータベースを作成\n",
    "conn = sqlite3.connect('dokidoki_diary.db')\n",
    "c = conn.cursor()\n",
    "\n",
    "# テーブルを作成\n",
    "c.execute('''\n",
    "          CREATE TABLE Diary_table(\n",
    "              diary_id INTEGER PRIMARY KEY AUTOINCREMENT,\n",
    "              user_id INT,\n",
    "              date date,\n",
    "              diary TEXT,\n",
    "              feedback TEXT\n",
    "          )\n",
    "          ''')\n",
    "\n",
    "conn.commit()\n",
    "conn.close()"
   ]
  },
  {
   "cell_type": "code",
   "execution_count": 5,
   "metadata": {},
   "outputs": [],
   "source": [
    "conn.close()"
   ]
  },
  {
   "cell_type": "code",
   "execution_count": 2,
   "metadata": {},
   "outputs": [],
   "source": [
    "import sqlite3\n",
    "conn = sqlite3.connect('dokidoki_diary.db')\n",
    "cur = conn.cursor()\n",
    "\n",
    "data = (1, \"2024-11-16\", \"最近はTech0の課題を頑張って取り組んでて、今日も朝からずっと課題に取り組んでたけど、どこが分からないのかもいまいち分からなかったんだよね・・・私はIT向いてないのかな\", \"おお、頑張ってるな～！Tech0の課題に朝からずっと取り組んでるんやな。ほんまに大変やなぁ。でも、どこが分からんのかも分からへんって、そらもう頭の中、パンクしそうになるわな。気持ち、めっちゃ分かるで。ITって、ほんまに難しいことが多いから、自分に向いてないんちゃうかなって思うこともあるよね。でもな、そんな時こそ、ちょっと気分転換してみるのもええかもしれんで。たとえば、外に出てちょっと散歩してみるとか。心もリフレッシュできるし、もしかしたら新しいアイデアが浮かぶかもしれんしな。それに、どんなことでも最初は苦労するもんやから、自分だけやないで。みんな、そんな時期を乗り越えてきてるんやから、あんたも大丈夫やで！焦らんと、ゆっくりやっていこうや。何かあったら、また話しにきてな。応援してるで！\")\n",
    "        \n",
    "cur.execute(\n",
    "    \"INSERT INTO Diary_table (user_id, date, diary, feedback) VALUES (?,?,?,?)\",\n",
    "    data\n",
    "    )\n",
    "\n",
    "conn.commit()\n",
    "conn.close()"
   ]
  },
  {
   "cell_type": "code",
   "execution_count": 4,
   "metadata": {},
   "outputs": [],
   "source": [
    "conn = sqlite3.connect('dokidoki_diary.db')\n",
    "cur = conn.cursor()\n",
    "\n",
    "cur.execute('INSERT INTO Diary_table (user_id, date, diary, feedback) VALUES \\\n",
    "            (1, \\\n",
    "            \"2024-11-2\", \\\n",
    "            \"今日は久しぶりに休みだったのに、何もすることが見つからなくて家でゴロゴロしてた。朝から雨で外にも行けないし、なんとなくSNSを見ているうちに時間が過ぎていった。お昼ご飯も作る気が起きなくて、冷蔵庫の残り物で済ませてしまった。夕方になって少し罪悪感が出てきて、部屋の掃除だけはしたけど、なんだか一日を無駄にした気分。せっかくの休みなのに、もっと有意義に過ごせばよかったな。明日からまた仕事かと思うと、なんだか切ない気持ち。\", \\\n",
    "            \"なんやなんや、そないに自分を責めんでもええんやで！たまにはボーッと過ごす日があってもええんやで！毎日頑張ってる君にとって、今日みたいなダラダラ過ごす日も大切な充電時間やねんで！それに、部屋掃除もちゃんとしたやんか。えらいえらい！休みの日ぐらい肩の力抜いて、ゆっくりするのも立派な休み方やで。明日からまた仕事やけど、今日ちゃんと体休めたから、きっと調子ようなるわ！君の頑張りはちゃんと見てるで、いつも最高やで！また明日から一緒に頑張ろな！\"\\\n",
    "            )')\n",
    "\n",
    "conn.commit()\n",
    "conn.close()\n"
   ]
  },
  {
   "cell_type": "code",
   "execution_count": 6,
   "metadata": {},
   "outputs": [],
   "source": [
    "conn = sqlite3.connect('dokidoki_diary.db')\n",
    "cur = conn.cursor()\n",
    "\n",
    "data = [\n",
    "    (1,\"2024-11-3\", \"今日も23時まで仕事しちゃったー😭 Tech0の課題もペースが遅くて焦る〜。でも頑張って1時間だけ取り組んだ！今週末は友達とクリスマスマーケット行く約束したから、それまで頑張る！あ、帰りにコンビニでクリスマスネイルのデザイン集買ったよ♪\", \"おつかれさま！ワイから見てるとめっちゃ頑張ってるで！深夜でも課題やる根性、すごいやん。仕事と学習の両立って本当しんどいよなぁ。でもな、毎日コツコツ積み重ねてる努力は必ず実を結ぶで！週末のクリスマスマーケットでリフレッシュできるし、その前にネイルも楽しめそうやん♪ええ感じにメリハリつけて頑張ってるやん！\")\n",
    "    ,(1,\"2024-11-4\", \"今日は珍しく19時に仕事終われた！！久しぶりに3時間くらいまとまった時間あったから、セルフネイルした♡ピンクのグラデーションにホログラムのアクセント、めちゃくちゃ可愛く仕上がった✨\", \"おおー！！めっちゃナイスな時間の使い方やん！仕事早く終われた日にしっかりリフレッシュできるの、すごい大事やで。特にネイルみたいな自分磨きができたんは最高やん！その調子で、オンとオフのメリハリつけていこ！明日からまた仕事もTech0も頑張れそうやね！\")\n",
    "]\n",
    "\n",
    "cur.executemany(\n",
    "    \"INSERT INTO Diary_table (user_id, date, diary, feedback) VALUES (?,?,?,?)\",\n",
    "    data\n",
    ")\n",
    "\n",
    "conn.commit()\n",
    "conn.close()"
   ]
  },
  {
   "cell_type": "code",
   "execution_count": null,
   "metadata": {},
   "outputs": [],
   "source": []
  }
 ],
 "metadata": {
  "kernelspec": {
   "display_name": "api_try",
   "language": "python",
   "name": "python3"
  },
  "language_info": {
   "codemirror_mode": {
    "name": "ipython",
    "version": 3
   },
   "file_extension": ".py",
   "mimetype": "text/x-python",
   "name": "python",
   "nbconvert_exporter": "python",
   "pygments_lexer": "ipython3",
   "version": "3.11.9"
  }
 },
 "nbformat": 4,
 "nbformat_minor": 2
}
